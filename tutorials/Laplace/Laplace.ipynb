
{
 "cells": [
  {
   "cell_type": "code",
   "execution_count": 1,
   "metadata": {},
   "outputs": [],
   "source": [
    "'''\n",
    "This is an example script to solve a Laplace problem using OpenCMISS-Iron calls in python\n",
    "ike all python examples with importing modules. In addition to sys, os and the CMISS module, \n",
    "math is imported as we will be using the math.sqrt function later on.\n",
    "In mathematics and physics, Laplace's equation is a second-order partial differential equation \n",
    "named after Pierre-Simon Laplace who first studied its properties.\n",
    "'''\n",
    "import sys, os\n",
    "# Intialise OpenCMISS-Iron\n",
    "from opencmiss.iron import iron\n",
    "#Note that importing iron from opencmiss initialises library with default values and\n",
    "#seeds random generator with a new value"
   ]
  },
  {
   "cell_type": "code",
   "execution_count": 2,
   "metadata": {},
   "outputs": [],
   "source": [
    "# Set problem parameters\n",
    "height = 1.0\n",
    "width = 2.0\n",
    "length = 3.0\n",
    "\n",
    "#We need constant identificators for various \n",
    "#library functional points\n",
    "(coordinateSystemUserNumber,\n",
    "    regionUserNumber,\n",
    "    basisUserNumber,\n",
    "    generatedMeshUserNumber,\n",
    "    meshUserNumber,\n",
    "    decompositionUserNumber,\n",
    "    geometricFieldUserNumber,\n",
    "    equationsSetFieldUserNumber,\n",
    "    dependentFieldUserNumber,\n",
    "    equationsSetUserNumber,\n",
    "    problemUserNumber) = range(1,12)"
   ]
  },
  {
   "cell_type": "code",
   "execution_count": 3,
   "metadata": {},
   "outputs": [],
   "source": [
    "#initialise parameters of the model\n",
    "numberGlobalXElements = 5\n",
    "numberGlobalYElements = 5\n",
    "numberGlobalZElements = 5\n"
   ]
  },
  {
   "cell_type": "code",
   "execution_count": 4,
   "metadata": {},
   "outputs": [],
   "source": [
    "# Get the computational nodes information\n",
    "# Note that in order for the model to utillise\n",
    "# parallel computations the code must be running\n",
    "# under the supervision of an MPI library\n",
    "# and as such must be executed with mpirun/mpiexec assistance\n",
    "# If mpirun/mpiexec is not used, number of nodes witll be 1 and\n",
    "# only the master node will be created\n",
    "numberOfComputationalNodes = iron.ComputationalNumberOfNodesGet()\n",
    "computationalNodeNumber = iron.ComputationalNodeNumberGet()"
   ]
  },
  {
   "cell_type": "code",
   "execution_count": 5,
   "metadata": {},
   "outputs": [],
   "source": [
    "\n",
    "# The first step in our example will be to initialise OpenCMISS an to set up a region \n",
    "# and coordinate system for our 3D mesh.\n",
    "\n",
    "# Creation a RC coordinate system\n",
    "coordinateSystem = iron.CoordinateSystem()\n",
    "coordinateSystem.CreateStart(coordinateSystemUserNumber)\n",
    "coordinateSystem.dimension = 3\n",
    "coordinateSystem.CreateFinish()\n",
    "\n",
    "# Create a region\n",
    "region = iron.Region()\n",
    "region.CreateStart(regionUserNumber,iron.WorldRegion)\n",
    "region.label = \"LaplaceRegion\"\n",
    "region.coordinateSystem = coordinateSystem\n",
    "region.CreateFinish()"
   ]
  },
  {
   "cell_type": "code",
   "execution_count": 6,
   "metadata": {},
   "outputs": [],
   "source": [
    "# In this example we will use the generated mesh capabilities of OpenCMISS to \n",
    "# generate our 3D mesh. The first thing we need to do is create a basis function \n",
    "# for the mesh. We will define a trilinear Lagrange basis.\n",
    "# Create a tri-linear lagrange basis\n",
    "basis = iron.Basis()\n",
    "basis.CreateStart(basisUserNumber)\n",
    "basis.type = iron.BasisTypes.LAGRANGE_HERMITE_TP\n",
    "basis.numberOfXi = 3\n",
    "basis.interpolationXi = [iron.BasisInterpolationSpecifications.LINEAR_LAGRANGE]*3\n",
    "basis.quadratureNumberOfGaussXi = [2]*3\n",
    "basis.CreateFinish()"
   ]
  },
  {
   "cell_type": "code",
   "execution_count": 7,
   "metadata": {},
   "outputs": [],
   "source": [
    "# We can now create a generated mesh. We will create a regular mesh of size \n",
    "# width x height x length and divide the mesh into numberOfXElements in the X direction,\n",
    "# numberOfYElements in the Y direction and numberOfZElements in the Z direction. \n",
    "# Note that when we finish generating the mesh we have a mesh object returned to us. \n",
    "# This mesh object is just the same as if we had manually created the regular mesh.\n",
    "\n",
    "#  Create a generated mesh\n",
    "generatedMesh = iron.GeneratedMesh()\n",
    "generatedMesh.CreateStart(generatedMeshUserNumber,region)\n",
    "generatedMesh.type = iron.GeneratedMeshTypes.REGULAR\n",
    "generatedMesh.basis = [basis]\n",
    "generatedMesh.extent = [width,height,length]\n",
    "generatedMesh.numberOfElements = [numberGlobalXElements,numberGlobalYElements,numberGlobalZElements]"
   ]
  },
  {
   "cell_type": "code",
   "execution_count": 8,
   "metadata": {},
   "outputs": [
    {
     "name": "stdout",
     "output_type": "stream",
     "text": [
      "1\n"
     ]
    }
   ],
   "source": [
    "# Let's double check the number of computational nodes we use\n",
    "print(numberOfComputationalNodes)"
   ]
  },
  {
   "cell_type": "code",
   "execution_count": 9,
   "metadata": {},
   "outputs": [],
   "source": [
    "mesh = iron.Mesh()\n",
    "generatedMesh.CreateFinish(meshUserNumber,mesh)\n"
   ]
  },
  {
   "cell_type": "code",
   "execution_count": 10,
   "metadata": {},
   "outputs": [],
   "source": [
    "# Once the mesh has been created we can decompose it into a number of domains in order to allow for \n",
    "# parallelism. We choose the options to let OpenCMISS calculate the best way to break up the mesh. \n",
    "# We also set the number of domains to be equal to the number of computational nodes this example is running on.\n",
    "# Note that if MPI infrastructure is not used, only single domain will ve created\n",
    "\n",
    "# Create a decomposition for the mesh\n",
    "decomposition = iron.Decomposition()\n",
    "decomposition.CreateStart(decompositionUserNumber,mesh)\n",
    "decomposition.type = iron.DecompositionTypes.CALCULATED\n",
    "decomposition.numberOfDomains = numberOfComputationalNodes\n",
    "decomposition.CreateFinish()"
   ]
  },
  {
   "cell_type": "code",
   "execution_count": 11,
   "metadata": {},
   "outputs": [],
   "source": [
    "# Now that the mesh has been decomposed we are in a position to create fields. The first field we need to \n",
    "# create is the geometry field. Here we create a field and set the field’s mesh decomposition to the \n",
    "# decomposed mesh that we have just created. We can choose exact how each component of the field is \n",
    "# interpolated by setting component mesh component to be the mesh components that we created for the mesh. \n",
    "# For this example we only have one mesh component. Once we have finished creating the field we can change \n",
    "# the field DOFs to give us our geometry. Since this mesh has been generated we can use the generated mesh \n",
    "# object to calculate the geometric parameters of the regular mesh.\n",
    "\n",
    "# Create a field for the geometry\n",
    "geometricField = iron.Field()\n",
    "geometricField.CreateStart(geometricFieldUserNumber,region)\n",
    "geometricField.meshDecomposition = decomposition\n",
    "geometricField.ComponentMeshComponentSet(iron.FieldVariableTypes.U,1,1)\n",
    "geometricField.ComponentMeshComponentSet(iron.FieldVariableTypes.U,2,1)\n",
    "geometricField.ComponentMeshComponentSet(iron.FieldVariableTypes.U,3,1)\n",
    "geometricField.CreateFinish()"
   ]
  },
  {
   "cell_type": "code",
   "execution_count": 12,
   "metadata": {},
   "outputs": [],
   "source": [
    "# Set geometry from the generated mesh\n",
    "generatedMesh.GeometricParametersCalculate(geometricField)"
   ]
  },
  {
   "cell_type": "code",
   "execution_count": 13,
   "metadata": {},
   "outputs": [],
   "source": [
    "# We are now in a position to define the type of physics that we wish to solve. This is done by creating an \n",
    "# equations set which is a contianer object for all the parameters we need to describe the physics. \n",
    "# Here we create a standard Laplace equations set.\n",
    "\n",
    "# {\\displaystyle \\nabla ^{2}f={\\frac {\\partial ^{2}f}{\\partial x^{2}}}+{\\frac {\\partial ^{2}f}{\\partial y^{2}}}+{\\frac {\\partial ^{2}f}{\\partial z^{2}}}=0.}\n",
    "\n",
    "# Create standard Laplace equations set\n",
    "equationsSetField = iron.Field()\n",
    "equationsSet = iron.EquationsSet()\n",
    "equationsSetSpecification = [iron.EquationsSetClasses.CLASSICAL_FIELD,\n",
    "        iron.EquationsSetTypes.LAPLACE_EQUATION,\n",
    "        iron.EquationsSetSubtypes.STANDARD_LAPLACE]\n",
    "equationsSet.CreateStart(equationsSetUserNumber,region,geometricField,\n",
    "        equationsSetSpecification,equationsSetFieldUserNumber,equationsSetField)\n",
    "equationsSet.CreateFinish()"
   ]
  },
  {
   "cell_type": "code",
   "execution_count": 14,
   "metadata": {},
   "outputs": [],
   "source": [
    "# For the Laplace equation we need a dependent field (our solution).\n",
    "# Here we do not define a field before the create starts and so we let OpenCMISS create an appropriate \n",
    "# dependent field for the Laplace equations being described. Once the fields have been created we can\n",
    "# set the field DOF values. \n",
    "\n",
    "# Create dependent field\n",
    "dependentField = iron.Field()\n",
    "equationsSet.DependentCreateStart(dependentFieldUserNumber,dependentField)\n",
    "dependentField.DOFOrderTypeSet(iron.FieldVariableTypes.U,iron.FieldDOFOrderTypes.SEPARATED)\n",
    "dependentField.DOFOrderTypeSet(iron.FieldVariableTypes.DELUDELN,iron.FieldDOFOrderTypes.SEPARATED)\n",
    "equationsSet.DependentCreateFinish()\n",
    "\n",
    "# Initialise dependent field\n",
    "dependentField.ComponentValuesInitialiseDP(iron.FieldVariableTypes.U,iron.FieldParameterSetTypes.VALUES,1,0.5)\n"
   ]
  },
  {
   "cell_type": "code",
   "execution_count": 15,
   "metadata": {},
   "outputs": [],
   "source": [
    "# Create equations \n",
    "equations = iron.Equations()\n",
    "equationsSet.EquationsCreateStart(equations)\n",
    "equations.sparsityType = iron.EquationsSparsityTypes.SPARSE\n",
    "equations.outputType = iron.EquationsOutputTypes.NONE\n",
    "equationsSet.EquationsCreateFinish()\n"
   ]
  },
  {
   "cell_type": "code",
   "execution_count": 16,
   "metadata": {},
   "outputs": [],
   "source": [
    "# Now we are ready to set up a problem to be solved by OpenCMISS\n",
    "# Create Laplace problem\n",
    "\n",
    "problem = iron.Problem()\n",
    "problemSpecification = [iron.ProblemClasses.CLASSICAL_FIELD,\n",
    "        iron.ProblemTypes.LAPLACE_EQUATION,\n",
    "        iron.ProblemSubtypes.STANDARD_LAPLACE]\n",
    "problem.CreateStart(problemUserNumber, problemSpecification)\n",
    "problem.CreateFinish()"
   ]
  },
  {
   "cell_type": "code",
   "execution_count": 17,
   "metadata": {},
   "outputs": [],
   "source": [
    "# OpenCMISS control loop is a \"supervisor\" for the computational process.\n",
    "# Create control loops\n",
    "problem.ControlLoopCreateStart()\n",
    "problem.ControlLoopCreateFinish()"
   ]
  },
  {
   "cell_type": "code",
   "execution_count": 18,
   "metadata": {},
   "outputs": [],
   "source": [
    "# Now we are ready to setup a solver for the problem. We need to specify solver type (iterative) and tolerances \n",
    "# in order for the computational loop to maintain control over the solution\n",
    "\n",
    "# Create problem solver\n",
    "solver = iron.Solver()\n",
    "problem.SolversCreateStart()\n",
    "problem.SolverGet([iron.ControlLoopIdentifiers.NODE],1,solver)\n",
    "solver.outputType = iron.SolverOutputTypes.SOLVER\n",
    "solver.linearType = iron.LinearSolverTypes.ITERATIVE\n",
    "solver.linearIterativeAbsoluteTolerance = 1.0E-12\n",
    "solver.linearIterativeRelativeTolerance = 1.0E-12\n",
    "problem.SolversCreateFinish()\n"
   ]
  },
  {
   "cell_type": "code",
   "execution_count": 19,
   "metadata": {},
   "outputs": [],
   "source": [
    "# Create solver equations and add equations set to solver equations\n",
    "solver = iron.Solver()\n",
    "solverEquations = iron.SolverEquations()\n",
    "problem.SolverEquationsCreateStart()\n",
    "problem.SolverGet([iron.ControlLoopIdentifiers.NODE],1,solver)\n",
    "solver.SolverEquationsGet(solverEquations)\n",
    "solverEquations.sparsityType = iron.SolverEquationsSparsityTypes.SPARSE\n",
    "equationsSetIndex = solverEquations.EquationsSetAdd(equationsSet)\n",
    "problem.SolverEquationsCreateFinish()"
   ]
  },
  {
   "cell_type": "code",
   "execution_count": 20,
   "metadata": {},
   "outputs": [],
   "source": [
    "# The Dirichlet problem for Laplace's equation consists of finding a solution φ on some domain D such that φ on \n",
    "# the boundary of D is equal to some given function. Since the Laplace operator appears in the heat equation, \n",
    "# one physical interpretation of this problem is as follows: fix the temperature on the boundary of the domain \n",
    "# according to the given specification of the boundary condition. Allow heat to flow until a stationary state is \n",
    "# reached in which the temperature at each point on the domain doesn't change anymore. \n",
    "# The temperature distribution in the interior will then be given by the solution to the corresponding \n",
    "# Dirichlet problem.\n",
    "\n",
    "# Create boundary conditions and set first and last nodes to 0.0 and 1.0\n",
    "boundaryConditions = iron.BoundaryConditions()\n",
    "solverEquations.BoundaryConditionsCreateStart(boundaryConditions)\n",
    "firstNodeNumber=1\n",
    "nodes = iron.Nodes()\n",
    "region.NodesGet(nodes)\n",
    "lastNodeNumber = nodes.numberOfNodes\n",
    "firstNodeDomain = decomposition.NodeDomainGet(firstNodeNumber,1)\n",
    "lastNodeDomain = decomposition.NodeDomainGet(lastNodeNumber,1)\n",
    "if firstNodeDomain == computationalNodeNumber:\n",
    "    boundaryConditions.SetNode(dependentField,iron.FieldVariableTypes.U,1,1,firstNodeNumber,1,iron.BoundaryConditionsTypes.FIXED,0.0)\n",
    "if lastNodeDomain == computationalNodeNumber:\n",
    "    boundaryConditions.SetNode(dependentField,iron.FieldVariableTypes.U,1,1,lastNodeNumber,1,iron.BoundaryConditionsTypes.FIXED,1.0)\n",
    "solverEquations.BoundaryConditionsCreateFinish()"
   ]
  },
  {
   "cell_type": "code",
   "execution_count": 21,
   "metadata": {},
   "outputs": [],
   "source": [
    "# Solve the problem\n",
    "problem.Solve()"
   ]
  },
  {
   "cell_type": "code",
   "execution_count": 22,
   "metadata": {},
   "outputs": [
    {
     "data": {
      "text/plain": [
       "'\\nAnd the results of the run are:\\nSolver:\\n  Solver index = 1\\n\\nSolver pre-solve:\\n\\nSolver equations solve:\\nSolver matrices assembly                          0.000000E+00  0.000000E+00  0.000000E+00\\nSolver RHS assembly                               0.000000E+00  0.000000E+00  0.000000E+00\\n\\nLinear iterative solver parameters:\\nFinal number of iterations = 65\\nFinal residual norm =    9.5010877749490898E-013\\nConverged Reason = PETSc converged ATol\\n\\nSolver solution vectors:\\nNumber of solution vectors = 1\\nSolution vector for solver matrix : 1\\nVector(:)          :  0.454768E+00  0.453061E+00  0.474333E+00  0.479934E+00  0.482290E+00  0.316870E+00  0.409378E+00  0.462585E+00\\n                      0.472722E+00  0.480318E+00  0.482162E+00  0.402008E+00  0.428823E+00  0.460520E+00  0.473907E+00  0.480185E+00\\n                      0.482271E+00  0.433056E+00  0.443886E+00  0.462155E+00  0.474202E+00  0.480324E+00  0.482290E+00  0.445737E+00\\n                      0.451788E+00  0.464094E+00  0.474444E+00  0.480395E+00  0.482433E+00  0.449290E+00  0.454204E+00  0.464855E+00\\n                      0.474531E+00  0.480518E+00  0.482091E+00  0.515997E+00  0.439936E+00  0.470055E+00  0.478714E+00  0.484677E+00\\n                      0.486369E+00  0.450287E+00  0.454469E+00  0.467957E+00  0.479295E+00  0.484600E+00  0.486426E+00  0.450036E+00\\n                      0.457122E+00  0.469658E+00  0.479334E+00  0.484718E+00  0.486441E+00  0.455945E+00  0.460982E+00  0.471032E+00\\n                      0.479634E+00  0.484782E+00  0.486447E+00  0.460150E+00  0.463890E+00  0.472092E+00  0.479883E+00  0.484851E+00\\n                      0.486268E+00  0.461582E+00  0.464923E+00  0.472480E+00  0.480031E+00  0.484658E+00  0.487089E+00  0.471228E+00\\n                      0.488941E+00  0.487827E+00  0.493293E+00  0.496779E+00  0.498081E+00  0.486044E+00  0.485514E+00  0.488588E+00\\n                      0.493186E+00  0.496810E+00  0.498062E+00  0.484843E+00  0.485417E+00  0.488683E+00  0.493308E+00  0.496818E+00\\n                      0.498090E+00  0.483959E+00  0.485250E+00  0.488910E+00  0.493397E+00  0.496893E+00  0.498314E+00  0.483784E+00\\n                      0.485276E+00  0.489069E+00  0.493481E+00  0.496932E+00  0.498933E+00  0.483796E+00  0.485308E+00  0.489169E+00\\n                      0.493323E+00  0.497789E+00  0.495580E+00  0.504420E+00  0.502211E+00  0.506677E+00  0.510831E+00  0.514692E+00\\n                      0.516204E+00  0.501067E+00  0.503068E+00  0.506519E+00  0.510931E+00  0.514724E+00  0.516216E+00  0.501686E+00\\n                      0.503107E+00  0.506603E+00  0.511090E+00  0.514750E+00  0.516041E+00  0.501910E+00  0.503182E+00  0.506692E+00\\n                      0.511317E+00  0.514583E+00  0.515157E+00  0.501938E+00  0.503190E+00  0.506814E+00  0.511412E+00  0.514486E+00\\n                      0.513956E+00  0.501919E+00  0.503221E+00  0.506707E+00  0.512173E+00  0.511059E+00  0.528772E+00  0.512911E+00\\n                      0.515342E+00  0.519969E+00  0.527520E+00  0.535077E+00  0.538418E+00  0.513732E+00  0.515149E+00  0.520117E+00\\n                      0.527908E+00  0.536110E+00  0.539850E+00  0.513553E+00  0.515218E+00  0.520366E+00  0.528968E+00  0.539018E+00\\n                      0.544055E+00  0.513559E+00  0.515282E+00  0.520666E+00  0.530342E+00  0.542878E+00  0.549964E+00  0.513574E+00\\n                      0.515400E+00  0.520705E+00  0.532043E+00  0.545531E+00  0.549713E+00  0.513631E+00  0.515323E+00  0.521286E+00\\n                      0.529945E+00  0.560064E+00  0.484003E+00  0.517909E+00  0.519482E+00  0.525469E+00  0.535145E+00  0.545796E+00\\n                      0.550710E+00  0.517567E+00  0.519605E+00  0.525556E+00  0.535906E+00  0.548212E+00  0.554263E+00  0.517710E+00\\n                      0.519676E+00  0.525798E+00  0.537845E+00  0.556114E+00  0.566944E+00  0.517729E+00  0.519815E+00  0.526093E+00\\n                      0.539480E+00  0.571177E+00  0.597992E+00  0.517838E+00  0.519682E+00  0.527278E+00  0.537415E+00  0.590622E+00\\n                      0.683130E+00  0.517710E+00  0.520066E+00  0.525667E+00  0.546939E+00  0.545232E+00\\nTotal time for solve                              0.000000E+00  0.000000E+00  0.000000E+00\\n\\nSolver post-solve:\\n'"
      ]
     },
     "execution_count": 22,
     "metadata": {},
     "output_type": "execute_result"
    }
   ],
   "source": [
    "'''\n",
    "And the results of the run are:\n",
    "Solver:\n",
    "  Solver index = 1\n",
    "\n",
    "Solver pre-solve:\n",
    "\n",
    "Solver equations solve:\n",
    "Solver matrices assembly                          0.000000E+00  0.000000E+00  0.000000E+00\n",
    "Solver RHS assembly                               0.000000E+00  0.000000E+00  0.000000E+00\n",
    "\n",
    "Linear iterative solver parameters:\n",
    "Final number of iterations = 65\n",
    "Final residual norm =    9.5010877749490898E-013\n",
    "Converged Reason = PETSc converged ATol\n",
    "\n",
    "Solver solution vectors:\n",
    "Number of solution vectors = 1\n",
    "Solution vector for solver matrix : 1\n",
    "Vector(:)          :  0.454768E+00  0.453061E+00  0.474333E+00  0.479934E+00  0.482290E+00  0.316870E+00  0.409378E+00  0.462585E+00\n",
    "                      0.472722E+00  0.480318E+00  0.482162E+00  0.402008E+00  0.428823E+00  0.460520E+00  0.473907E+00  0.480185E+00\n",
    "                      0.482271E+00  0.433056E+00  0.443886E+00  0.462155E+00  0.474202E+00  0.480324E+00  0.482290E+00  0.445737E+00\n",
    "                      0.451788E+00  0.464094E+00  0.474444E+00  0.480395E+00  0.482433E+00  0.449290E+00  0.454204E+00  0.464855E+00\n",
    "                      0.474531E+00  0.480518E+00  0.482091E+00  0.515997E+00  0.439936E+00  0.470055E+00  0.478714E+00  0.484677E+00\n",
    "                      0.486369E+00  0.450287E+00  0.454469E+00  0.467957E+00  0.479295E+00  0.484600E+00  0.486426E+00  0.450036E+00\n",
    "                      0.457122E+00  0.469658E+00  0.479334E+00  0.484718E+00  0.486441E+00  0.455945E+00  0.460982E+00  0.471032E+00\n",
    "                      0.479634E+00  0.484782E+00  0.486447E+00  0.460150E+00  0.463890E+00  0.472092E+00  0.479883E+00  0.484851E+00\n",
    "                      0.486268E+00  0.461582E+00  0.464923E+00  0.472480E+00  0.480031E+00  0.484658E+00  0.487089E+00  0.471228E+00\n",
    "                      0.488941E+00  0.487827E+00  0.493293E+00  0.496779E+00  0.498081E+00  0.486044E+00  0.485514E+00  0.488588E+00\n",
    "                      0.493186E+00  0.496810E+00  0.498062E+00  0.484843E+00  0.485417E+00  0.488683E+00  0.493308E+00  0.496818E+00\n",
    "                      0.498090E+00  0.483959E+00  0.485250E+00  0.488910E+00  0.493397E+00  0.496893E+00  0.498314E+00  0.483784E+00\n",
    "                      0.485276E+00  0.489069E+00  0.493481E+00  0.496932E+00  0.498933E+00  0.483796E+00  0.485308E+00  0.489169E+00\n",
    "                      0.493323E+00  0.497789E+00  0.495580E+00  0.504420E+00  0.502211E+00  0.506677E+00  0.510831E+00  0.514692E+00\n",
    "                      0.516204E+00  0.501067E+00  0.503068E+00  0.506519E+00  0.510931E+00  0.514724E+00  0.516216E+00  0.501686E+00\n",
    "                      0.503107E+00  0.506603E+00  0.511090E+00  0.514750E+00  0.516041E+00  0.501910E+00  0.503182E+00  0.506692E+00\n",
    "                      0.511317E+00  0.514583E+00  0.515157E+00  0.501938E+00  0.503190E+00  0.506814E+00  0.511412E+00  0.514486E+00\n",
    "                      0.513956E+00  0.501919E+00  0.503221E+00  0.506707E+00  0.512173E+00  0.511059E+00  0.528772E+00  0.512911E+00\n",
    "                      0.515342E+00  0.519969E+00  0.527520E+00  0.535077E+00  0.538418E+00  0.513732E+00  0.515149E+00  0.520117E+00\n",
    "                      0.527908E+00  0.536110E+00  0.539850E+00  0.513553E+00  0.515218E+00  0.520366E+00  0.528968E+00  0.539018E+00\n",
    "                      0.544055E+00  0.513559E+00  0.515282E+00  0.520666E+00  0.530342E+00  0.542878E+00  0.549964E+00  0.513574E+00\n",
    "                      0.515400E+00  0.520705E+00  0.532043E+00  0.545531E+00  0.549713E+00  0.513631E+00  0.515323E+00  0.521286E+00\n",
    "                      0.529945E+00  0.560064E+00  0.484003E+00  0.517909E+00  0.519482E+00  0.525469E+00  0.535145E+00  0.545796E+00\n",
    "                      0.550710E+00  0.517567E+00  0.519605E+00  0.525556E+00  0.535906E+00  0.548212E+00  0.554263E+00  0.517710E+00\n",
    "                      0.519676E+00  0.525798E+00  0.537845E+00  0.556114E+00  0.566944E+00  0.517729E+00  0.519815E+00  0.526093E+00\n",
    "                      0.539480E+00  0.571177E+00  0.597992E+00  0.517838E+00  0.519682E+00  0.527278E+00  0.537415E+00  0.590622E+00\n",
    "                      0.683130E+00  0.517710E+00  0.520066E+00  0.525667E+00  0.546939E+00  0.545232E+00\n",
    "Total time for solve                              0.000000E+00  0.000000E+00  0.000000E+00\n",
    "\n",
    "Solver post-solve:\n",
    "'''\n"
   ]
  },
  {
   "cell_type": "code",
   "execution_count": 23,
   "metadata": {},
   "outputs": [],
   "source": [
    "# Now we want to have the results of the run be stored for analysis and later use\n",
    "\n",
    "# Export results\n",
    "baseName = \"laplace\"\n",
    "dataFormat = \"PLAIN_TEXT\"\n",
    "fml = iron.FieldMLIO()\n",
    "fml.OutputCreate(mesh, \"\", baseName, dataFormat)\n",
    "fml.OutputAddFieldNoType(baseName+\".geometric\", dataFormat, geometricField,\n",
    "    iron.FieldVariableTypes.U, iron.FieldParameterSetTypes.VALUES)\n",
    "fml.OutputAddFieldNoType(baseName+\".phi\", dataFormat, dependentField,\n",
    "    iron.FieldVariableTypes.U, iron.FieldParameterSetTypes.VALUES)\n",
    "fml.OutputWrite(\"LaplaceExample.xml\")\n",
    "fml.Finalise()"
   ]
  },
  {
   "cell_type": "code",
   "execution_count": 24,
   "metadata": {},
   "outputs": [],
   "source": [
    "# Let the library know that you are done with computations and the resources allocated for the problem\n",
    "# can now be released\n",
    "iron.Finalise()"
   ]
  },
  {
   "cell_type": "code",
   "execution_count": null,
   "metadata": {},
   "outputs": [],
   "source": []
  }
 ],
 "metadata": {
  "kernelspec": {
   "display_name": "Python 3",
   "language": "python",
   "name": "python3"
  },
  "language_info": {
   "codemirror_mode": {
    "name": "ipython",
    "version": 3
   },
   "file_extension": ".py",
   "mimetype": "text/x-python",
   "name": "python",
   "nbconvert_exporter": "python",
   "pygments_lexer": "ipython3",
   "version": "3.6.8"
  }
 },
 "nbformat": 4,
 "nbformat_minor": 2
}
